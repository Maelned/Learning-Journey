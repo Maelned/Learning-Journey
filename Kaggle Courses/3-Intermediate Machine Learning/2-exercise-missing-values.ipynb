{
 "cells": [
  {
   "cell_type": "markdown",
   "id": "4b174cdc",
   "metadata": {
    "papermill": {
     "duration": 0.027984,
     "end_time": "2021-08-24T08:07:11.032537",
     "exception": false,
     "start_time": "2021-08-24T08:07:11.004553",
     "status": "completed"
    },
    "tags": []
   },
   "source": [
    "**This notebook is an exercise in the [Intermediate Machine Learning](https://www.kaggle.com/learn/intermediate-machine-learning) course.  You can reference the tutorial at [this link](https://www.kaggle.com/alexisbcook/missing-values).**\n",
    "\n",
    "---\n"
   ]
  },
  {
   "cell_type": "markdown",
   "id": "a1e51091",
   "metadata": {
    "papermill": {
     "duration": 0.027137,
     "end_time": "2021-08-24T08:07:11.088814",
     "exception": false,
     "start_time": "2021-08-24T08:07:11.061677",
     "status": "completed"
    },
    "tags": []
   },
   "source": [
    "Now it's your turn to test your new knowledge of **missing values** handling. You'll probably find it makes a big difference.\n",
    "\n",
    "# Setup\n",
    "\n",
    "The questions will give you feedback on your work. Run the following cell to set up the feedback system."
   ]
  },
  {
   "cell_type": "code",
   "execution_count": 1,
   "id": "49b315f6",
   "metadata": {
    "execution": {
     "iopub.execute_input": "2021-08-24T08:07:11.147418Z",
     "iopub.status.busy": "2021-08-24T08:07:11.146224Z",
     "iopub.status.idle": "2021-08-24T08:07:11.309724Z",
     "shell.execute_reply": "2021-08-24T08:07:11.310265Z",
     "shell.execute_reply.started": "2021-08-24T07:35:20.655156Z"
    },
    "papermill": {
     "duration": 0.194233,
     "end_time": "2021-08-24T08:07:11.310567",
     "exception": false,
     "start_time": "2021-08-24T08:07:11.116334",
     "status": "completed"
    },
    "tags": []
   },
   "outputs": [
    {
     "name": "stdout",
     "output_type": "stream",
     "text": [
      "Setup Complete\n"
     ]
    }
   ],
   "source": [
    "# Set up code checking\n",
    "import os\n",
    "if not os.path.exists(\"../input/train.csv\"):\n",
    "    os.symlink(\"../input/home-data-for-ml-course/train.csv\", \"../input/train.csv\")  \n",
    "    os.symlink(\"../input/home-data-for-ml-course/test.csv\", \"../input/test.csv\") \n",
    "from learntools.core import binder\n",
    "binder.bind(globals())\n",
    "from learntools.ml_intermediate.ex2 import *\n",
    "print(\"Setup Complete\")"
   ]
  },
  {
   "cell_type": "markdown",
   "id": "593fc77c",
   "metadata": {
    "papermill": {
     "duration": 0.027203,
     "end_time": "2021-08-24T08:07:11.366265",
     "exception": false,
     "start_time": "2021-08-24T08:07:11.339062",
     "status": "completed"
    },
    "tags": []
   },
   "source": [
    "In this exercise, you will work with data from the [Housing Prices Competition for Kaggle Learn Users](https://www.kaggle.com/c/home-data-for-ml-course). \n",
    "\n",
    "![Ames Housing dataset image](https://i.imgur.com/lTJVG4e.png)\n",
    "\n",
    "Run the next code cell without changes to load the training and validation sets in `X_train`, `X_valid`, `y_train`, and `y_valid`.  The test set is loaded in `X_test`."
   ]
  },
  {
   "cell_type": "code",
   "execution_count": 2,
   "id": "2f59a1a1",
   "metadata": {
    "execution": {
     "iopub.execute_input": "2021-08-24T08:07:11.429366Z",
     "iopub.status.busy": "2021-08-24T08:07:11.428593Z",
     "iopub.status.idle": "2021-08-24T08:07:12.471057Z",
     "shell.execute_reply": "2021-08-24T08:07:12.471558Z",
     "shell.execute_reply.started": "2021-08-24T07:42:18.235735Z"
    },
    "papermill": {
     "duration": 1.077887,
     "end_time": "2021-08-24T08:07:12.471747",
     "exception": false,
     "start_time": "2021-08-24T08:07:11.393860",
     "status": "completed"
    },
    "tags": []
   },
   "outputs": [],
   "source": [
    "import pandas as pd\n",
    "from sklearn.model_selection import train_test_split\n",
    "\n",
    "# Read the data\n",
    "X_full = pd.read_csv('../input/train.csv', index_col='Id')\n",
    "X_test_full = pd.read_csv('../input/test.csv', index_col='Id')\n",
    "\n",
    "# Remove rows with missing target, separate target from predictors\n",
    "X_full.dropna(axis=0, subset=['SalePrice'], inplace=True)\n",
    "y = X_full.SalePrice\n",
    "X_full.drop(['SalePrice'], axis=1, inplace=True)\n",
    "\n",
    "# To keep things simple, we'll use only numerical predictors\n",
    "X = X_full.select_dtypes(exclude=['object'])\n",
    "X_test = X_test_full.select_dtypes(exclude=['object'])\n",
    "\n",
    "# Break off validation set from training data\n",
    "X_train, X_valid, y_train, y_valid = train_test_split(X, y, train_size=0.8, test_size=0.2,\n",
    "                                                      random_state=0)"
   ]
  },
  {
   "cell_type": "markdown",
   "id": "8fea9975",
   "metadata": {
    "papermill": {
     "duration": 0.02792,
     "end_time": "2021-08-24T08:07:12.527019",
     "exception": false,
     "start_time": "2021-08-24T08:07:12.499099",
     "status": "completed"
    },
    "tags": []
   },
   "source": [
    "Use the next code cell to print the first five rows of the data."
   ]
  },
  {
   "cell_type": "code",
   "execution_count": 3,
   "id": "a6b4f6e9",
   "metadata": {
    "execution": {
     "iopub.execute_input": "2021-08-24T08:07:12.584713Z",
     "iopub.status.busy": "2021-08-24T08:07:12.584050Z",
     "iopub.status.idle": "2021-08-24T08:07:12.614754Z",
     "shell.execute_reply": "2021-08-24T08:07:12.615296Z",
     "shell.execute_reply.started": "2021-08-24T07:42:52.223185Z"
    },
    "papermill": {
     "duration": 0.061216,
     "end_time": "2021-08-24T08:07:12.615491",
     "exception": false,
     "start_time": "2021-08-24T08:07:12.554275",
     "status": "completed"
    },
    "tags": []
   },
   "outputs": [
    {
     "data": {
      "text/html": [
       "<div>\n",
       "<style scoped>\n",
       "    .dataframe tbody tr th:only-of-type {\n",
       "        vertical-align: middle;\n",
       "    }\n",
       "\n",
       "    .dataframe tbody tr th {\n",
       "        vertical-align: top;\n",
       "    }\n",
       "\n",
       "    .dataframe thead th {\n",
       "        text-align: right;\n",
       "    }\n",
       "</style>\n",
       "<table border=\"1\" class=\"dataframe\">\n",
       "  <thead>\n",
       "    <tr style=\"text-align: right;\">\n",
       "      <th></th>\n",
       "      <th>MSSubClass</th>\n",
       "      <th>LotFrontage</th>\n",
       "      <th>LotArea</th>\n",
       "      <th>OverallQual</th>\n",
       "      <th>OverallCond</th>\n",
       "      <th>YearBuilt</th>\n",
       "      <th>YearRemodAdd</th>\n",
       "      <th>MasVnrArea</th>\n",
       "      <th>BsmtFinSF1</th>\n",
       "      <th>BsmtFinSF2</th>\n",
       "      <th>...</th>\n",
       "      <th>GarageArea</th>\n",
       "      <th>WoodDeckSF</th>\n",
       "      <th>OpenPorchSF</th>\n",
       "      <th>EnclosedPorch</th>\n",
       "      <th>3SsnPorch</th>\n",
       "      <th>ScreenPorch</th>\n",
       "      <th>PoolArea</th>\n",
       "      <th>MiscVal</th>\n",
       "      <th>MoSold</th>\n",
       "      <th>YrSold</th>\n",
       "    </tr>\n",
       "    <tr>\n",
       "      <th>Id</th>\n",
       "      <th></th>\n",
       "      <th></th>\n",
       "      <th></th>\n",
       "      <th></th>\n",
       "      <th></th>\n",
       "      <th></th>\n",
       "      <th></th>\n",
       "      <th></th>\n",
       "      <th></th>\n",
       "      <th></th>\n",
       "      <th></th>\n",
       "      <th></th>\n",
       "      <th></th>\n",
       "      <th></th>\n",
       "      <th></th>\n",
       "      <th></th>\n",
       "      <th></th>\n",
       "      <th></th>\n",
       "      <th></th>\n",
       "      <th></th>\n",
       "      <th></th>\n",
       "    </tr>\n",
       "  </thead>\n",
       "  <tbody>\n",
       "    <tr>\n",
       "      <th>619</th>\n",
       "      <td>20</td>\n",
       "      <td>90.0</td>\n",
       "      <td>11694</td>\n",
       "      <td>9</td>\n",
       "      <td>5</td>\n",
       "      <td>2007</td>\n",
       "      <td>2007</td>\n",
       "      <td>452.0</td>\n",
       "      <td>48</td>\n",
       "      <td>0</td>\n",
       "      <td>...</td>\n",
       "      <td>774</td>\n",
       "      <td>0</td>\n",
       "      <td>108</td>\n",
       "      <td>0</td>\n",
       "      <td>0</td>\n",
       "      <td>260</td>\n",
       "      <td>0</td>\n",
       "      <td>0</td>\n",
       "      <td>7</td>\n",
       "      <td>2007</td>\n",
       "    </tr>\n",
       "    <tr>\n",
       "      <th>871</th>\n",
       "      <td>20</td>\n",
       "      <td>60.0</td>\n",
       "      <td>6600</td>\n",
       "      <td>5</td>\n",
       "      <td>5</td>\n",
       "      <td>1962</td>\n",
       "      <td>1962</td>\n",
       "      <td>0.0</td>\n",
       "      <td>0</td>\n",
       "      <td>0</td>\n",
       "      <td>...</td>\n",
       "      <td>308</td>\n",
       "      <td>0</td>\n",
       "      <td>0</td>\n",
       "      <td>0</td>\n",
       "      <td>0</td>\n",
       "      <td>0</td>\n",
       "      <td>0</td>\n",
       "      <td>0</td>\n",
       "      <td>8</td>\n",
       "      <td>2009</td>\n",
       "    </tr>\n",
       "    <tr>\n",
       "      <th>93</th>\n",
       "      <td>30</td>\n",
       "      <td>80.0</td>\n",
       "      <td>13360</td>\n",
       "      <td>5</td>\n",
       "      <td>7</td>\n",
       "      <td>1921</td>\n",
       "      <td>2006</td>\n",
       "      <td>0.0</td>\n",
       "      <td>713</td>\n",
       "      <td>0</td>\n",
       "      <td>...</td>\n",
       "      <td>432</td>\n",
       "      <td>0</td>\n",
       "      <td>0</td>\n",
       "      <td>44</td>\n",
       "      <td>0</td>\n",
       "      <td>0</td>\n",
       "      <td>0</td>\n",
       "      <td>0</td>\n",
       "      <td>8</td>\n",
       "      <td>2009</td>\n",
       "    </tr>\n",
       "    <tr>\n",
       "      <th>818</th>\n",
       "      <td>20</td>\n",
       "      <td>NaN</td>\n",
       "      <td>13265</td>\n",
       "      <td>8</td>\n",
       "      <td>5</td>\n",
       "      <td>2002</td>\n",
       "      <td>2002</td>\n",
       "      <td>148.0</td>\n",
       "      <td>1218</td>\n",
       "      <td>0</td>\n",
       "      <td>...</td>\n",
       "      <td>857</td>\n",
       "      <td>150</td>\n",
       "      <td>59</td>\n",
       "      <td>0</td>\n",
       "      <td>0</td>\n",
       "      <td>0</td>\n",
       "      <td>0</td>\n",
       "      <td>0</td>\n",
       "      <td>7</td>\n",
       "      <td>2008</td>\n",
       "    </tr>\n",
       "    <tr>\n",
       "      <th>303</th>\n",
       "      <td>20</td>\n",
       "      <td>118.0</td>\n",
       "      <td>13704</td>\n",
       "      <td>7</td>\n",
       "      <td>5</td>\n",
       "      <td>2001</td>\n",
       "      <td>2002</td>\n",
       "      <td>150.0</td>\n",
       "      <td>0</td>\n",
       "      <td>0</td>\n",
       "      <td>...</td>\n",
       "      <td>843</td>\n",
       "      <td>468</td>\n",
       "      <td>81</td>\n",
       "      <td>0</td>\n",
       "      <td>0</td>\n",
       "      <td>0</td>\n",
       "      <td>0</td>\n",
       "      <td>0</td>\n",
       "      <td>1</td>\n",
       "      <td>2006</td>\n",
       "    </tr>\n",
       "  </tbody>\n",
       "</table>\n",
       "<p>5 rows × 36 columns</p>\n",
       "</div>"
      ],
      "text/plain": [
       "     MSSubClass  LotFrontage  LotArea  OverallQual  OverallCond  YearBuilt  \\\n",
       "Id                                                                           \n",
       "619          20         90.0    11694            9            5       2007   \n",
       "871          20         60.0     6600            5            5       1962   \n",
       "93           30         80.0    13360            5            7       1921   \n",
       "818          20          NaN    13265            8            5       2002   \n",
       "303          20        118.0    13704            7            5       2001   \n",
       "\n",
       "     YearRemodAdd  MasVnrArea  BsmtFinSF1  BsmtFinSF2  ...  GarageArea  \\\n",
       "Id                                                     ...               \n",
       "619          2007       452.0          48           0  ...         774   \n",
       "871          1962         0.0           0           0  ...         308   \n",
       "93           2006         0.0         713           0  ...         432   \n",
       "818          2002       148.0        1218           0  ...         857   \n",
       "303          2002       150.0           0           0  ...         843   \n",
       "\n",
       "     WoodDeckSF  OpenPorchSF  EnclosedPorch  3SsnPorch  ScreenPorch  PoolArea  \\\n",
       "Id                                                                              \n",
       "619           0          108              0          0          260         0   \n",
       "871           0            0              0          0            0         0   \n",
       "93            0            0             44          0            0         0   \n",
       "818         150           59              0          0            0         0   \n",
       "303         468           81              0          0            0         0   \n",
       "\n",
       "     MiscVal  MoSold  YrSold  \n",
       "Id                            \n",
       "619        0       7    2007  \n",
       "871        0       8    2009  \n",
       "93         0       8    2009  \n",
       "818        0       7    2008  \n",
       "303        0       1    2006  \n",
       "\n",
       "[5 rows x 36 columns]"
      ]
     },
     "execution_count": 3,
     "metadata": {},
     "output_type": "execute_result"
    }
   ],
   "source": [
    "X_train.head()"
   ]
  },
  {
   "cell_type": "markdown",
   "id": "7c532757",
   "metadata": {
    "papermill": {
     "duration": 0.027948,
     "end_time": "2021-08-24T08:07:12.671963",
     "exception": false,
     "start_time": "2021-08-24T08:07:12.644015",
     "status": "completed"
    },
    "tags": []
   },
   "source": [
    "You can already see a few missing values in the first several rows.  In the next step, you'll obtain a more comprehensive understanding of the missing values in the dataset.\n",
    "\n",
    "# Step 1: Preliminary investigation\n",
    "\n",
    "Run the code cell below without changes."
   ]
  },
  {
   "cell_type": "code",
   "execution_count": 4,
   "id": "2d80536f",
   "metadata": {
    "execution": {
     "iopub.execute_input": "2021-08-24T08:07:12.731959Z",
     "iopub.status.busy": "2021-08-24T08:07:12.731234Z",
     "iopub.status.idle": "2021-08-24T08:07:12.740182Z",
     "shell.execute_reply": "2021-08-24T08:07:12.740731Z",
     "shell.execute_reply.started": "2021-08-24T07:43:55.265039Z"
    },
    "papermill": {
     "duration": 0.040651,
     "end_time": "2021-08-24T08:07:12.740929",
     "exception": false,
     "start_time": "2021-08-24T08:07:12.700278",
     "status": "completed"
    },
    "tags": []
   },
   "outputs": [
    {
     "name": "stdout",
     "output_type": "stream",
     "text": [
      "(1168, 36)\n",
      "LotFrontage    212\n",
      "MasVnrArea       6\n",
      "GarageYrBlt     58\n",
      "dtype: int64\n"
     ]
    }
   ],
   "source": [
    "# Shape of training data (num_rows, num_columns)\n",
    "print(X_train.shape)\n",
    "\n",
    "# Number of missing values in each column of training data\n",
    "missing_val_count_by_column = (X_train.isnull().sum())\n",
    "print(missing_val_count_by_column[missing_val_count_by_column > 0])"
   ]
  },
  {
   "cell_type": "markdown",
   "id": "17873dc2",
   "metadata": {
    "papermill": {
     "duration": 0.028337,
     "end_time": "2021-08-24T08:07:12.799112",
     "exception": false,
     "start_time": "2021-08-24T08:07:12.770775",
     "status": "completed"
    },
    "tags": []
   },
   "source": [
    "### Part A\n",
    "\n",
    "Use the above output to answer the questions below."
   ]
  },
  {
   "cell_type": "code",
   "execution_count": 5,
   "id": "26994e35",
   "metadata": {
    "execution": {
     "iopub.execute_input": "2021-08-24T08:07:12.860423Z",
     "iopub.status.busy": "2021-08-24T08:07:12.859732Z",
     "iopub.status.idle": "2021-08-24T08:07:12.867196Z",
     "shell.execute_reply": "2021-08-24T08:07:12.867737Z",
     "shell.execute_reply.started": "2021-08-24T07:45:05.492545Z"
    },
    "papermill": {
     "duration": 0.039882,
     "end_time": "2021-08-24T08:07:12.867926",
     "exception": false,
     "start_time": "2021-08-24T08:07:12.828044",
     "status": "completed"
    },
    "tags": []
   },
   "outputs": [
    {
     "data": {
      "application/javascript": [
       "parent.postMessage({\"jupyterEvent\": \"custom.exercise_interaction\", \"data\": {\"outcomeType\": 1, \"valueTowardsCompletion\": 1.0, \"interactionType\": 1, \"questionType\": 1, \"questionId\": \"1.1_InvestigateEquality\", \"learnToolsVersion\": \"0.3.4\", \"failureMessage\": \"\", \"exceptionClass\": \"\", \"trace\": \"\"}}, \"*\")"
      ],
      "text/plain": [
       "<IPython.core.display.Javascript object>"
      ]
     },
     "metadata": {},
     "output_type": "display_data"
    },
    {
     "data": {
      "text/markdown": [
       "<span style=\"color:#33cc33\">Correct</span>"
      ],
      "text/plain": [
       "Correct"
      ]
     },
     "metadata": {},
     "output_type": "display_data"
    }
   ],
   "source": [
    "# Fill in the line below: How many rows are in the training data?\n",
    "num_rows = 1168\n",
    "\n",
    "# Fill in the line below: How many columns in the training data\n",
    "# have missing values?\n",
    "num_cols_with_missing = 3\n",
    "\n",
    "# Fill in the line below: How many missing entries are contained in \n",
    "# all of the training data?\n",
    "tot_missing = 276\n",
    "\n",
    "# Check your answers\n",
    "step_1.a.check()"
   ]
  },
  {
   "cell_type": "code",
   "execution_count": 6,
   "id": "6f117c32",
   "metadata": {
    "execution": {
     "iopub.execute_input": "2021-08-24T08:07:12.930509Z",
     "iopub.status.busy": "2021-08-24T08:07:12.929776Z",
     "iopub.status.idle": "2021-08-24T08:07:12.932803Z",
     "shell.execute_reply": "2021-08-24T08:07:12.933355Z"
    },
    "papermill": {
     "duration": 0.036028,
     "end_time": "2021-08-24T08:07:12.933528",
     "exception": false,
     "start_time": "2021-08-24T08:07:12.897500",
     "status": "completed"
    },
    "tags": []
   },
   "outputs": [],
   "source": [
    "# Lines below will give you a hint or solution code\n",
    "#step_1.a.hint()\n",
    "#step_1.a.solution()"
   ]
  },
  {
   "cell_type": "markdown",
   "id": "4bf6ce83",
   "metadata": {
    "papermill": {
     "duration": 0.029815,
     "end_time": "2021-08-24T08:07:12.993582",
     "exception": false,
     "start_time": "2021-08-24T08:07:12.963767",
     "status": "completed"
    },
    "tags": []
   },
   "source": [
    "### Part B\n",
    "Considering your answers above, what do you think is likely the best approach to dealing with the missing values?"
   ]
  },
  {
   "cell_type": "code",
   "execution_count": 7,
   "id": "55f0ab22",
   "metadata": {
    "execution": {
     "iopub.execute_input": "2021-08-24T08:07:13.055626Z",
     "iopub.status.busy": "2021-08-24T08:07:13.054945Z",
     "iopub.status.idle": "2021-08-24T08:07:13.062305Z",
     "shell.execute_reply": "2021-08-24T08:07:13.062792Z",
     "shell.execute_reply.started": "2021-08-24T07:45:30.025174Z"
    },
    "papermill": {
     "duration": 0.039919,
     "end_time": "2021-08-24T08:07:13.062983",
     "exception": false,
     "start_time": "2021-08-24T08:07:13.023064",
     "status": "completed"
    },
    "tags": []
   },
   "outputs": [
    {
     "data": {
      "application/javascript": [
       "parent.postMessage({\"jupyterEvent\": \"custom.exercise_interaction\", \"data\": {\"outcomeType\": 1, \"valueTowardsCompletion\": 1.0, \"interactionType\": 1, \"questionType\": 4, \"questionId\": \"1.2_InvestigateThought\", \"learnToolsVersion\": \"0.3.4\", \"failureMessage\": \"\", \"exceptionClass\": \"\", \"trace\": \"\"}}, \"*\")"
      ],
      "text/plain": [
       "<IPython.core.display.Javascript object>"
      ]
     },
     "metadata": {},
     "output_type": "display_data"
    },
    {
     "data": {
      "text/markdown": [
       "<span style=\"color:#33cc33\">Correct:</span> \n",
       "\n",
       "Since there are relatively few missing entries in the data (the column with the greatest percentage of missing values is missing less than 20% of its entries), we can expect that dropping columns is unlikely to yield good results.  This is because we'd be throwing away a lot of valuable data, and so imputation will likely perform better."
      ],
      "text/plain": [
       "Correct: \n",
       "\n",
       "Since there are relatively few missing entries in the data (the column with the greatest percentage of missing values is missing less than 20% of its entries), we can expect that dropping columns is unlikely to yield good results.  This is because we'd be throwing away a lot of valuable data, and so imputation will likely perform better."
      ]
     },
     "metadata": {},
     "output_type": "display_data"
    }
   ],
   "source": [
    "# Check your answer (Run this code cell to receive credit!)\n",
    "step_1.b.check()"
   ]
  },
  {
   "cell_type": "code",
   "execution_count": 8,
   "id": "145979f2",
   "metadata": {
    "execution": {
     "iopub.execute_input": "2021-08-24T08:07:13.128498Z",
     "iopub.status.busy": "2021-08-24T08:07:13.127815Z",
     "iopub.status.idle": "2021-08-24T08:07:13.131141Z",
     "shell.execute_reply": "2021-08-24T08:07:13.131619Z"
    },
    "papermill": {
     "duration": 0.037244,
     "end_time": "2021-08-24T08:07:13.131779",
     "exception": false,
     "start_time": "2021-08-24T08:07:13.094535",
     "status": "completed"
    },
    "tags": []
   },
   "outputs": [],
   "source": [
    "#step_1.b.hint()"
   ]
  },
  {
   "cell_type": "markdown",
   "id": "1856c1df",
   "metadata": {
    "papermill": {
     "duration": 0.030246,
     "end_time": "2021-08-24T08:07:13.192710",
     "exception": false,
     "start_time": "2021-08-24T08:07:13.162464",
     "status": "completed"
    },
    "tags": []
   },
   "source": [
    "To compare different approaches to dealing with missing values, you'll use the same `score_dataset()` function from the tutorial.  This function reports the [mean absolute error](https://en.wikipedia.org/wiki/Mean_absolute_error) (MAE) from a random forest model."
   ]
  },
  {
   "cell_type": "code",
   "execution_count": 9,
   "id": "6523f9cd",
   "metadata": {
    "execution": {
     "iopub.execute_input": "2021-08-24T08:07:13.256759Z",
     "iopub.status.busy": "2021-08-24T08:07:13.256110Z",
     "iopub.status.idle": "2021-08-24T08:07:13.472573Z",
     "shell.execute_reply": "2021-08-24T08:07:13.471848Z",
     "shell.execute_reply.started": "2021-08-24T07:46:20.130767Z"
    },
    "papermill": {
     "duration": 0.249426,
     "end_time": "2021-08-24T08:07:13.472720",
     "exception": false,
     "start_time": "2021-08-24T08:07:13.223294",
     "status": "completed"
    },
    "tags": []
   },
   "outputs": [],
   "source": [
    "from sklearn.ensemble import RandomForestRegressor\n",
    "from sklearn.metrics import mean_absolute_error\n",
    "\n",
    "# Function for comparing different approaches\n",
    "def score_dataset(X_train, X_valid, y_train, y_valid):\n",
    "    model = RandomForestRegressor(n_estimators=100, random_state=0)\n",
    "    model.fit(X_train, y_train)\n",
    "    preds = model.predict(X_valid)\n",
    "    return mean_absolute_error(y_valid, preds)"
   ]
  },
  {
   "cell_type": "markdown",
   "id": "54bf9053",
   "metadata": {
    "papermill": {
     "duration": 0.030685,
     "end_time": "2021-08-24T08:07:13.534448",
     "exception": false,
     "start_time": "2021-08-24T08:07:13.503763",
     "status": "completed"
    },
    "tags": []
   },
   "source": [
    "# Step 2: Drop columns with missing values\n",
    "\n",
    "In this step, you'll preprocess the data in `X_train` and `X_valid` to remove columns with missing values.  Set the preprocessed DataFrames to `reduced_X_train` and `reduced_X_valid`, respectively.  "
   ]
  },
  {
   "cell_type": "code",
   "execution_count": 10,
   "id": "8505683b",
   "metadata": {
    "execution": {
     "iopub.execute_input": "2021-08-24T08:07:13.624575Z",
     "iopub.status.busy": "2021-08-24T08:07:13.623725Z",
     "iopub.status.idle": "2021-08-24T08:07:13.629253Z",
     "shell.execute_reply": "2021-08-24T08:07:13.629696Z",
     "shell.execute_reply.started": "2021-08-24T07:48:40.827795Z"
    },
    "papermill": {
     "duration": 0.064553,
     "end_time": "2021-08-24T08:07:13.629888",
     "exception": false,
     "start_time": "2021-08-24T08:07:13.565335",
     "status": "completed"
    },
    "tags": []
   },
   "outputs": [
    {
     "data": {
      "application/javascript": [
       "parent.postMessage({\"jupyterEvent\": \"custom.exercise_interaction\", \"data\": {\"outcomeType\": 1, \"valueTowardsCompletion\": 1.0, \"interactionType\": 1, \"questionType\": 2, \"questionId\": \"2_DropMissing\", \"learnToolsVersion\": \"0.3.4\", \"failureMessage\": \"\", \"exceptionClass\": \"\", \"trace\": \"\"}}, \"*\")"
      ],
      "text/plain": [
       "<IPython.core.display.Javascript object>"
      ]
     },
     "metadata": {},
     "output_type": "display_data"
    },
    {
     "data": {
      "text/markdown": [
       "<span style=\"color:#33cc33\">Correct</span>"
      ],
      "text/plain": [
       "Correct"
      ]
     },
     "metadata": {},
     "output_type": "display_data"
    }
   ],
   "source": [
    "# Fill in the line below: get names of columns with missing values\n",
    "cols_with_missing = [col for col in X_train.columns\n",
    "                    if X_train[col].isnull().any()] # Your code here\n",
    "\n",
    "# Fill in the lines below: drop columns in training and validation data\n",
    "reduced_X_train = X_train.drop(cols_with_missing, axis = 1)\n",
    "reduced_X_valid = X_valid.drop(cols_with_missing, axis = 1)\n",
    "\n",
    "# Check your answers\n",
    "step_2.check()"
   ]
  },
  {
   "cell_type": "code",
   "execution_count": 11,
   "id": "f2d35b4e",
   "metadata": {
    "execution": {
     "iopub.execute_input": "2021-08-24T08:07:13.697620Z",
     "iopub.status.busy": "2021-08-24T08:07:13.696949Z",
     "iopub.status.idle": "2021-08-24T08:07:13.700269Z",
     "shell.execute_reply": "2021-08-24T08:07:13.699597Z"
    },
    "papermill": {
     "duration": 0.039049,
     "end_time": "2021-08-24T08:07:13.700415",
     "exception": false,
     "start_time": "2021-08-24T08:07:13.661366",
     "status": "completed"
    },
    "tags": []
   },
   "outputs": [],
   "source": [
    "# Lines below will give you a hint or solution code\n",
    "#step_2.hint()\n",
    "#step_2.solution()"
   ]
  },
  {
   "cell_type": "markdown",
   "id": "102c6ea9",
   "metadata": {
    "papermill": {
     "duration": 0.032221,
     "end_time": "2021-08-24T08:07:13.764576",
     "exception": false,
     "start_time": "2021-08-24T08:07:13.732355",
     "status": "completed"
    },
    "tags": []
   },
   "source": [
    "Run the next code cell without changes to obtain the MAE for this approach."
   ]
  },
  {
   "cell_type": "code",
   "execution_count": 12,
   "id": "c94dfac7",
   "metadata": {
    "execution": {
     "iopub.execute_input": "2021-08-24T08:07:13.836704Z",
     "iopub.status.busy": "2021-08-24T08:07:13.835693Z",
     "iopub.status.idle": "2021-08-24T08:07:15.091817Z",
     "shell.execute_reply": "2021-08-24T08:07:15.092887Z",
     "shell.execute_reply.started": "2021-08-24T07:48:44.236181Z"
    },
    "papermill": {
     "duration": 1.296595,
     "end_time": "2021-08-24T08:07:15.093087",
     "exception": false,
     "start_time": "2021-08-24T08:07:13.796492",
     "status": "completed"
    },
    "tags": []
   },
   "outputs": [
    {
     "name": "stdout",
     "output_type": "stream",
     "text": [
      "MAE (Drop columns with missing values):\n",
      "17837.82570776256\n"
     ]
    }
   ],
   "source": [
    "print(\"MAE (Drop columns with missing values):\")\n",
    "print(score_dataset(reduced_X_train, reduced_X_valid, y_train, y_valid))"
   ]
  },
  {
   "cell_type": "markdown",
   "id": "0feff11b",
   "metadata": {
    "papermill": {
     "duration": 0.032451,
     "end_time": "2021-08-24T08:07:15.158274",
     "exception": false,
     "start_time": "2021-08-24T08:07:15.125823",
     "status": "completed"
    },
    "tags": []
   },
   "source": [
    "# Step 3: Imputation\n",
    "\n",
    "### Part A\n",
    "\n",
    "Use the next code cell to impute missing values with the mean value along each column.  Set the preprocessed DataFrames to `imputed_X_train` and `imputed_X_valid`.  Make sure that the column names match those in `X_train` and `X_valid`."
   ]
  },
  {
   "cell_type": "code",
   "execution_count": 13,
   "id": "0e4ffcea",
   "metadata": {
    "execution": {
     "iopub.execute_input": "2021-08-24T08:07:15.230010Z",
     "iopub.status.busy": "2021-08-24T08:07:15.229309Z",
     "iopub.status.idle": "2021-08-24T08:07:15.263037Z",
     "shell.execute_reply": "2021-08-24T08:07:15.262495Z",
     "shell.execute_reply.started": "2021-08-24T08:01:14.870561Z"
    },
    "papermill": {
     "duration": 0.071858,
     "end_time": "2021-08-24T08:07:15.263172",
     "exception": false,
     "start_time": "2021-08-24T08:07:15.191314",
     "status": "completed"
    },
    "tags": []
   },
   "outputs": [
    {
     "data": {
      "application/javascript": [
       "parent.postMessage({\"jupyterEvent\": \"custom.exercise_interaction\", \"data\": {\"outcomeType\": 1, \"valueTowardsCompletion\": 1.0, \"interactionType\": 1, \"questionType\": 2, \"questionId\": \"3.1_ImputeCode\", \"learnToolsVersion\": \"0.3.4\", \"failureMessage\": \"\", \"exceptionClass\": \"\", \"trace\": \"\"}}, \"*\")"
      ],
      "text/plain": [
       "<IPython.core.display.Javascript object>"
      ]
     },
     "metadata": {},
     "output_type": "display_data"
    },
    {
     "data": {
      "text/markdown": [
       "<span style=\"color:#33cc33\">Correct</span>"
      ],
      "text/plain": [
       "Correct"
      ]
     },
     "metadata": {},
     "output_type": "display_data"
    }
   ],
   "source": [
    "from sklearn.impute import SimpleImputer\n",
    "\n",
    "# Fill in the lines below: imputation\n",
    "my_imputer = SimpleImputer() # Your code here\n",
    "imputed_X_train = pd.DataFrame(my_imputer.fit_transform(X_train))\n",
    "imputed_X_valid = pd.DataFrame(my_imputer.transform(X_valid))\n",
    "\n",
    "# Fill in the lines below: imputation removed column names; put them back\n",
    "imputed_X_train.columns = X_train.columns\n",
    "imputed_X_valid.columns = X_valid.columns\n",
    "\n",
    "# Check your answers\n",
    "step_3.a.check()"
   ]
  },
  {
   "cell_type": "code",
   "execution_count": 14,
   "id": "8e5b78d0",
   "metadata": {
    "execution": {
     "iopub.execute_input": "2021-08-24T08:07:15.334380Z",
     "iopub.status.busy": "2021-08-24T08:07:15.333718Z",
     "iopub.status.idle": "2021-08-24T08:07:15.336646Z",
     "shell.execute_reply": "2021-08-24T08:07:15.336131Z"
    },
    "papermill": {
     "duration": 0.040143,
     "end_time": "2021-08-24T08:07:15.336797",
     "exception": false,
     "start_time": "2021-08-24T08:07:15.296654",
     "status": "completed"
    },
    "tags": []
   },
   "outputs": [],
   "source": [
    "# Lines below will give you a hint or solution code\n",
    "#step_3.a.hint()\n",
    "#step_3.a.solution()"
   ]
  },
  {
   "cell_type": "markdown",
   "id": "8c3797ea",
   "metadata": {
    "papermill": {
     "duration": 0.033862,
     "end_time": "2021-08-24T08:07:15.404598",
     "exception": false,
     "start_time": "2021-08-24T08:07:15.370736",
     "status": "completed"
    },
    "tags": []
   },
   "source": [
    "Run the next code cell without changes to obtain the MAE for this approach."
   ]
  },
  {
   "cell_type": "code",
   "execution_count": 15,
   "id": "f5c389ab",
   "metadata": {
    "execution": {
     "iopub.execute_input": "2021-08-24T08:07:15.477913Z",
     "iopub.status.busy": "2021-08-24T08:07:15.477237Z",
     "iopub.status.idle": "2021-08-24T08:07:16.855008Z",
     "shell.execute_reply": "2021-08-24T08:07:16.856163Z",
     "shell.execute_reply.started": "2021-08-24T08:01:17.745069Z"
    },
    "papermill": {
     "duration": 1.418594,
     "end_time": "2021-08-24T08:07:16.856512",
     "exception": false,
     "start_time": "2021-08-24T08:07:15.437918",
     "status": "completed"
    },
    "tags": []
   },
   "outputs": [
    {
     "name": "stdout",
     "output_type": "stream",
     "text": [
      "MAE (Imputation):\n",
      "18062.894611872147\n"
     ]
    }
   ],
   "source": [
    "print(\"MAE (Imputation):\")\n",
    "print(score_dataset(imputed_X_train, imputed_X_valid, y_train, y_valid))"
   ]
  },
  {
   "cell_type": "markdown",
   "id": "5b694101",
   "metadata": {
    "papermill": {
     "duration": 0.033907,
     "end_time": "2021-08-24T08:07:16.925576",
     "exception": false,
     "start_time": "2021-08-24T08:07:16.891669",
     "status": "completed"
    },
    "tags": []
   },
   "source": [
    "### Part B\n",
    "\n",
    "Compare the MAE from each approach.  Does anything surprise you about the results?  Why do you think one approach performed better than the other?"
   ]
  },
  {
   "cell_type": "code",
   "execution_count": 16,
   "id": "dd295d2f",
   "metadata": {
    "execution": {
     "iopub.execute_input": "2021-08-24T08:07:16.998568Z",
     "iopub.status.busy": "2021-08-24T08:07:16.997855Z",
     "iopub.status.idle": "2021-08-24T08:07:17.005694Z",
     "shell.execute_reply": "2021-08-24T08:07:17.005055Z",
     "shell.execute_reply.started": "2021-08-24T08:01:27.396999Z"
    },
    "papermill": {
     "duration": 0.045893,
     "end_time": "2021-08-24T08:07:17.005832",
     "exception": false,
     "start_time": "2021-08-24T08:07:16.959939",
     "status": "completed"
    },
    "tags": []
   },
   "outputs": [
    {
     "data": {
      "application/javascript": [
       "parent.postMessage({\"jupyterEvent\": \"custom.exercise_interaction\", \"data\": {\"outcomeType\": 1, \"valueTowardsCompletion\": 1.0, \"interactionType\": 1, \"questionType\": 4, \"questionId\": \"3.2_ImputeThought\", \"learnToolsVersion\": \"0.3.4\", \"failureMessage\": \"\", \"exceptionClass\": \"\", \"trace\": \"\"}}, \"*\")"
      ],
      "text/plain": [
       "<IPython.core.display.Javascript object>"
      ]
     },
     "metadata": {},
     "output_type": "display_data"
    },
    {
     "data": {
      "text/markdown": [
       "<span style=\"color:#33cc33\">Correct:</span> \n",
       "\n",
       "Given that thre are so few missing values in the dataset, we'd expect imputation to perform better than dropping columns entirely.  However, we see that dropping columns performs slightly better!  While this can probably partially be attributed to noise in the dataset, another potential explanation is that the imputation method is not a great match to this dataset.  That is, maybe instead of filling in the mean value, it makes more sense to set every missing value to a value of 0, to fill in the most frequently encountered value, or to use some other method.  For instance, consider the `GarageYrBlt` column (which indicates the year that the garage was built).  It's likely that in some cases, a missing value could indicate a house that does not have a garage.  Does it make more sense to fill in the median value along each column in this case?  Or could we get better results by filling in the minimum value along each column?  It's not quite clear what's best in this case, but perhaps we can rule out some options immediately - for instance, setting missing values in this column to 0 is likely to yield horrible results!"
      ],
      "text/plain": [
       "Correct: \n",
       "\n",
       "Given that thre are so few missing values in the dataset, we'd expect imputation to perform better than dropping columns entirely.  However, we see that dropping columns performs slightly better!  While this can probably partially be attributed to noise in the dataset, another potential explanation is that the imputation method is not a great match to this dataset.  That is, maybe instead of filling in the mean value, it makes more sense to set every missing value to a value of 0, to fill in the most frequently encountered value, or to use some other method.  For instance, consider the `GarageYrBlt` column (which indicates the year that the garage was built).  It's likely that in some cases, a missing value could indicate a house that does not have a garage.  Does it make more sense to fill in the median value along each column in this case?  Or could we get better results by filling in the minimum value along each column?  It's not quite clear what's best in this case, but perhaps we can rule out some options immediately - for instance, setting missing values in this column to 0 is likely to yield horrible results!"
      ]
     },
     "metadata": {},
     "output_type": "display_data"
    }
   ],
   "source": [
    "# Check your answer (Run this code cell to receive credit!)\n",
    "step_3.b.check()"
   ]
  },
  {
   "cell_type": "code",
   "execution_count": 17,
   "id": "ab01899d",
   "metadata": {
    "execution": {
     "iopub.execute_input": "2021-08-24T08:07:17.082968Z",
     "iopub.status.busy": "2021-08-24T08:07:17.082276Z",
     "iopub.status.idle": "2021-08-24T08:07:17.084053Z",
     "shell.execute_reply": "2021-08-24T08:07:17.084490Z"
    },
    "papermill": {
     "duration": 0.042869,
     "end_time": "2021-08-24T08:07:17.084660",
     "exception": false,
     "start_time": "2021-08-24T08:07:17.041791",
     "status": "completed"
    },
    "tags": []
   },
   "outputs": [],
   "source": [
    "#step_3.b.hint()"
   ]
  },
  {
   "cell_type": "markdown",
   "id": "92025461",
   "metadata": {
    "papermill": {
     "duration": 0.035621,
     "end_time": "2021-08-24T08:07:17.155994",
     "exception": false,
     "start_time": "2021-08-24T08:07:17.120373",
     "status": "completed"
    },
    "tags": []
   },
   "source": [
    "# Step 4: Generate test predictions\n",
    "\n",
    "In this final step, you'll use any approach of your choosing to deal with missing values.  Once you've preprocessed the training and validation features, you'll train and evaluate a random forest model.  Then, you'll preprocess the test data before generating predictions that can be submitted to the competition!\n",
    "\n",
    "### Part A\n",
    "\n",
    "Use the next code cell to preprocess the training and validation data.  Set the preprocessed DataFrames to `final_X_train` and `final_X_valid`.  **You can use any approach of your choosing here!**  in order for this step to be marked as correct, you need only ensure:\n",
    "- the preprocessed DataFrames have the same number of columns,\n",
    "- the preprocessed DataFrames have no missing values, \n",
    "- `final_X_train` and `y_train` have the same number of rows, and\n",
    "- `final_X_valid` and `y_valid` have the same number of rows."
   ]
  },
  {
   "cell_type": "code",
   "execution_count": 18,
   "id": "c3fa0886",
   "metadata": {
    "execution": {
     "iopub.execute_input": "2021-08-24T08:07:17.230006Z",
     "iopub.status.busy": "2021-08-24T08:07:17.229325Z",
     "iopub.status.idle": "2021-08-24T08:07:17.261469Z",
     "shell.execute_reply": "2021-08-24T08:07:17.260939Z",
     "shell.execute_reply.started": "2021-08-24T08:04:47.346965Z"
    },
    "papermill": {
     "duration": 0.070268,
     "end_time": "2021-08-24T08:07:17.261648",
     "exception": false,
     "start_time": "2021-08-24T08:07:17.191380",
     "status": "completed"
    },
    "tags": []
   },
   "outputs": [
    {
     "data": {
      "application/javascript": [
       "parent.postMessage({\"jupyterEvent\": \"custom.exercise_interaction\", \"data\": {\"outcomeType\": 1, \"valueTowardsCompletion\": 1.0, \"interactionType\": 1, \"questionType\": 2, \"questionId\": \"4.1_PredsCodeA\", \"learnToolsVersion\": \"0.3.4\", \"failureMessage\": \"\", \"exceptionClass\": \"\", \"trace\": \"\"}}, \"*\")"
      ],
      "text/plain": [
       "<IPython.core.display.Javascript object>"
      ]
     },
     "metadata": {},
     "output_type": "display_data"
    },
    {
     "data": {
      "text/markdown": [
       "<span style=\"color:#33cc33\">Correct</span>"
      ],
      "text/plain": [
       "Correct"
      ]
     },
     "metadata": {},
     "output_type": "display_data"
    }
   ],
   "source": [
    "# Preprocessed training and validation features\n",
    "# Imputation\n",
    "final_imputer = SimpleImputer(strategy='median')\n",
    "final_X_train = pd.DataFrame(final_imputer.fit_transform(X_train))\n",
    "final_X_valid = pd.DataFrame(final_imputer.transform(X_valid))\n",
    "\n",
    "# Imputation removed column names; put them back\n",
    "final_X_train.columns = X_train.columns\n",
    "final_X_valid.columns = X_valid.columns\n",
    "\n",
    "# Check your answers\n",
    "step_4.a.check()"
   ]
  },
  {
   "cell_type": "code",
   "execution_count": 19,
   "id": "5d3e0827",
   "metadata": {
    "execution": {
     "iopub.execute_input": "2021-08-24T08:07:17.339210Z",
     "iopub.status.busy": "2021-08-24T08:07:17.338560Z",
     "iopub.status.idle": "2021-08-24T08:07:17.343161Z",
     "shell.execute_reply": "2021-08-24T08:07:17.343665Z",
     "shell.execute_reply.started": "2021-08-24T08:04:16.604061Z"
    },
    "papermill": {
     "duration": 0.04599,
     "end_time": "2021-08-24T08:07:17.343824",
     "exception": false,
     "start_time": "2021-08-24T08:07:17.297834",
     "status": "completed"
    },
    "tags": []
   },
   "outputs": [
    {
     "data": {
      "application/javascript": [
       "parent.postMessage({\"jupyterEvent\": \"custom.exercise_interaction\", \"data\": {\"interactionType\": 3, \"questionType\": 2, \"questionId\": \"4.1_PredsCodeA\", \"learnToolsVersion\": \"0.3.4\", \"valueTowardsCompletion\": 0.0, \"failureMessage\": \"\", \"exceptionClass\": \"\", \"trace\": \"\", \"outcomeType\": 4}}, \"*\")"
      ],
      "text/plain": [
       "<IPython.core.display.Javascript object>"
      ]
     },
     "metadata": {},
     "output_type": "display_data"
    },
    {
     "data": {
      "text/markdown": [
       "<span style=\"color:#33cc99\">Solution:</span> \n",
       "```python\n",
       "# Imputation\n",
       "final_imputer = SimpleImputer(strategy='median')\n",
       "final_X_train = pd.DataFrame(final_imputer.fit_transform(X_train))\n",
       "final_X_valid = pd.DataFrame(final_imputer.transform(X_valid))\n",
       "\n",
       "# Imputation removed column names; put them back\n",
       "final_X_train.columns = X_train.columns\n",
       "final_X_valid.columns = X_valid.columns\n",
       "\n",
       "```"
      ],
      "text/plain": [
       "Solution: \n",
       "```python\n",
       "# Imputation\n",
       "final_imputer = SimpleImputer(strategy='median')\n",
       "final_X_train = pd.DataFrame(final_imputer.fit_transform(X_train))\n",
       "final_X_valid = pd.DataFrame(final_imputer.transform(X_valid))\n",
       "\n",
       "# Imputation removed column names; put them back\n",
       "final_X_train.columns = X_train.columns\n",
       "final_X_valid.columns = X_valid.columns\n",
       "\n",
       "```"
      ]
     },
     "metadata": {},
     "output_type": "display_data"
    }
   ],
   "source": [
    "# Lines below will give you a hint or solution code\n",
    "#step_4.a.hint()\n",
    "step_4.a.solution()"
   ]
  },
  {
   "cell_type": "markdown",
   "id": "a7f4c366",
   "metadata": {
    "papermill": {
     "duration": 0.036505,
     "end_time": "2021-08-24T08:07:17.417599",
     "exception": false,
     "start_time": "2021-08-24T08:07:17.381094",
     "status": "completed"
    },
    "tags": []
   },
   "source": [
    "Run the next code cell to train and evaluate a random forest model.  (*Note that we don't use the `score_dataset()` function above, because we will soon use the trained model to generate test predictions!*)"
   ]
  },
  {
   "cell_type": "code",
   "execution_count": 20,
   "id": "c5c18d43",
   "metadata": {
    "execution": {
     "iopub.execute_input": "2021-08-24T08:07:17.494970Z",
     "iopub.status.busy": "2021-08-24T08:07:17.494287Z",
     "iopub.status.idle": "2021-08-24T08:07:18.880130Z",
     "shell.execute_reply": "2021-08-24T08:07:18.880596Z",
     "shell.execute_reply.started": "2021-08-24T08:05:02.717693Z"
    },
    "papermill": {
     "duration": 1.426187,
     "end_time": "2021-08-24T08:07:18.880780",
     "exception": false,
     "start_time": "2021-08-24T08:07:17.454593",
     "status": "completed"
    },
    "tags": []
   },
   "outputs": [
    {
     "name": "stdout",
     "output_type": "stream",
     "text": [
      "MAE (Your approach):\n",
      "17791.59899543379\n"
     ]
    }
   ],
   "source": [
    "# Define and fit model\n",
    "model = RandomForestRegressor(n_estimators=100, random_state=0)\n",
    "model.fit(final_X_train, y_train)\n",
    "\n",
    "# Get validation predictions and MAE\n",
    "preds_valid = model.predict(final_X_valid)\n",
    "print(\"MAE (Your approach):\")\n",
    "print(mean_absolute_error(y_valid, preds_valid))"
   ]
  },
  {
   "cell_type": "markdown",
   "id": "74a9a402",
   "metadata": {
    "papermill": {
     "duration": 0.037108,
     "end_time": "2021-08-24T08:07:18.955560",
     "exception": false,
     "start_time": "2021-08-24T08:07:18.918452",
     "status": "completed"
    },
    "tags": []
   },
   "source": [
    "### Part B\n",
    "\n",
    "Use the next code cell to preprocess your test data.  Make sure that you use a method that agrees with how you preprocessed the training and validation data, and set the preprocessed test features to `final_X_test`.\n",
    "\n",
    "Then, use the preprocessed test features and the trained model to generate test predictions in `preds_test`.\n",
    "\n",
    "In order for this step to be marked correct, you need only ensure:\n",
    "- the preprocessed test DataFrame has no missing values, and\n",
    "- `final_X_test` has the same number of rows as `X_test`."
   ]
  },
  {
   "cell_type": "code",
   "execution_count": 21,
   "id": "0de0799d",
   "metadata": {
    "execution": {
     "iopub.execute_input": "2021-08-24T08:07:19.040048Z",
     "iopub.status.busy": "2021-08-24T08:07:19.039341Z",
     "iopub.status.idle": "2021-08-24T08:07:19.088626Z",
     "shell.execute_reply": "2021-08-24T08:07:19.087944Z",
     "shell.execute_reply.started": "2021-08-24T08:06:40.483297Z"
    },
    "papermill": {
     "duration": 0.09398,
     "end_time": "2021-08-24T08:07:19.088773",
     "exception": false,
     "start_time": "2021-08-24T08:07:18.994793",
     "status": "completed"
    },
    "tags": []
   },
   "outputs": [
    {
     "data": {
      "application/javascript": [
       "parent.postMessage({\"jupyterEvent\": \"custom.exercise_interaction\", \"data\": {\"outcomeType\": 1, \"valueTowardsCompletion\": 1.0, \"interactionType\": 1, \"questionType\": 2, \"questionId\": \"4.2_PredsCodeB\", \"learnToolsVersion\": \"0.3.4\", \"failureMessage\": \"\", \"exceptionClass\": \"\", \"trace\": \"\"}}, \"*\")"
      ],
      "text/plain": [
       "<IPython.core.display.Javascript object>"
      ]
     },
     "metadata": {},
     "output_type": "display_data"
    },
    {
     "data": {
      "text/markdown": [
       "<span style=\"color:#33cc33\">Correct</span>"
      ],
      "text/plain": [
       "Correct"
      ]
     },
     "metadata": {},
     "output_type": "display_data"
    }
   ],
   "source": [
    "# Fill in the line below: preprocess test data\n",
    "final_X_test = pd.DataFrame(final_imputer.transform(X_test))\n",
    "\n",
    "# Fill in the line below: get test predictions\n",
    "preds_test = model.predict(final_X_test)\n",
    "\n",
    "# Check your answers\n",
    "step_4.b.check()"
   ]
  },
  {
   "cell_type": "code",
   "execution_count": 22,
   "id": "565ae177",
   "metadata": {
    "execution": {
     "iopub.execute_input": "2021-08-24T08:07:19.173063Z",
     "iopub.status.busy": "2021-08-24T08:07:19.172265Z",
     "iopub.status.idle": "2021-08-24T08:07:19.180181Z",
     "shell.execute_reply": "2021-08-24T08:07:19.180689Z",
     "shell.execute_reply.started": "2021-08-24T08:06:08.226227Z"
    },
    "papermill": {
     "duration": 0.052887,
     "end_time": "2021-08-24T08:07:19.180857",
     "exception": false,
     "start_time": "2021-08-24T08:07:19.127970",
     "status": "completed"
    },
    "tags": []
   },
   "outputs": [
    {
     "data": {
      "application/javascript": [
       "parent.postMessage({\"jupyterEvent\": \"custom.exercise_interaction\", \"data\": {\"interactionType\": 3, \"questionType\": 2, \"questionId\": \"4.2_PredsCodeB\", \"learnToolsVersion\": \"0.3.4\", \"valueTowardsCompletion\": 0.0, \"failureMessage\": \"\", \"exceptionClass\": \"\", \"trace\": \"\", \"outcomeType\": 4}}, \"*\")"
      ],
      "text/plain": [
       "<IPython.core.display.Javascript object>"
      ]
     },
     "metadata": {},
     "output_type": "display_data"
    },
    {
     "data": {
      "text/markdown": [
       "<span style=\"color:#33cc99\">Solution:</span> \n",
       "```python\n",
       "# Preprocess test data\n",
       "final_X_test = pd.DataFrame(final_imputer.transform(X_test))\n",
       "\n",
       "# Get test predictions\n",
       "preds_test = model.predict(final_X_test)\n",
       "\n",
       "```"
      ],
      "text/plain": [
       "Solution: \n",
       "```python\n",
       "# Preprocess test data\n",
       "final_X_test = pd.DataFrame(final_imputer.transform(X_test))\n",
       "\n",
       "# Get test predictions\n",
       "preds_test = model.predict(final_X_test)\n",
       "\n",
       "```"
      ]
     },
     "metadata": {},
     "output_type": "display_data"
    }
   ],
   "source": [
    "# Lines below will give you a hint or solution code\n",
    "#step_4.b.hint()\n",
    "step_4.b.solution()"
   ]
  },
  {
   "cell_type": "markdown",
   "id": "1deddd8e",
   "metadata": {
    "papermill": {
     "duration": 0.038937,
     "end_time": "2021-08-24T08:07:19.259058",
     "exception": false,
     "start_time": "2021-08-24T08:07:19.220121",
     "status": "completed"
    },
    "tags": []
   },
   "source": [
    "Run the next code cell without changes to save your results to a CSV file that can be submitted directly to the competition."
   ]
  },
  {
   "cell_type": "code",
   "execution_count": 23,
   "id": "0dbf2a94",
   "metadata": {
    "execution": {
     "iopub.execute_input": "2021-08-24T08:07:19.340570Z",
     "iopub.status.busy": "2021-08-24T08:07:19.339927Z",
     "iopub.status.idle": "2021-08-24T08:07:19.354424Z",
     "shell.execute_reply": "2021-08-24T08:07:19.354960Z",
     "shell.execute_reply.started": "2021-08-24T08:06:44.950732Z"
    },
    "papermill": {
     "duration": 0.056977,
     "end_time": "2021-08-24T08:07:19.355149",
     "exception": false,
     "start_time": "2021-08-24T08:07:19.298172",
     "status": "completed"
    },
    "tags": []
   },
   "outputs": [],
   "source": [
    "# Save test predictions to file\n",
    "output = pd.DataFrame({'Id': X_test.index,\n",
    "                       'SalePrice': preds_test})\n",
    "output.to_csv('submission.csv', index=False)"
   ]
  },
  {
   "cell_type": "markdown",
   "id": "81ae1bb5",
   "metadata": {
    "papermill": {
     "duration": 0.039092,
     "end_time": "2021-08-24T08:07:19.434123",
     "exception": false,
     "start_time": "2021-08-24T08:07:19.395031",
     "status": "completed"
    },
    "tags": []
   },
   "source": [
    "# Submit your results\n",
    "\n",
    "Once you have successfully completed Step 4, you're ready to submit your results to the leaderboard!  (_You also learned how to do this in the previous exercise.  If you need a reminder of how to do this, please use the instructions below._)  \n",
    "\n",
    "First, you'll need to join the competition if you haven't already.  So open a new window by clicking on [this link](https://www.kaggle.com/c/home-data-for-ml-course).  Then click on the **Join Competition** button.\n",
    "\n",
    "![join competition image](https://i.imgur.com/wLmFtH3.png)\n",
    "\n",
    "Next, follow the instructions below:\n",
    "1. Begin by clicking on the blue **Save Version** button in the top right corner of the window.  This will generate a pop-up window.  \n",
    "2. Ensure that the **Save and Run All** option is selected, and then click on the blue **Save** button.\n",
    "3. This generates a window in the bottom left corner of the notebook.  After it has finished running, click on the number to the right of the **Save Version** button.  This pulls up a list of versions on the right of the screen.  Click on the ellipsis **(...)** to the right of the most recent version, and select **Open in Viewer**.  This brings you into view mode of the same page. You will need to scroll down to get back to these instructions.\n",
    "4. Click on the **Output** tab on the right of the screen.  Then, click on the file you would like to submit, and click on the blue **Submit** button to submit your results to the leaderboard.\n",
    "\n",
    "You have now successfully submitted to the competition!\n",
    "\n",
    "If you want to keep working to improve your performance, select the blue **Edit** button in the top right of the screen. Then you can change your code and repeat the process. There's a lot of room to improve, and you will climb up the leaderboard as you work.\n",
    "\n",
    "\n",
    "# Keep going\n",
    "\n",
    "Move on to learn what **[categorical variables](https://www.kaggle.com/alexisbcook/categorical-variables)** are, along with how to incorporate them into your machine learning models.  Categorical variables are very common in real-world data, but you'll get an error if you try to plug them into your models without processing them first!"
   ]
  },
  {
   "cell_type": "markdown",
   "id": "e70be872",
   "metadata": {
    "papermill": {
     "duration": 0.03915,
     "end_time": "2021-08-24T08:07:19.512983",
     "exception": false,
     "start_time": "2021-08-24T08:07:19.473833",
     "status": "completed"
    },
    "tags": []
   },
   "source": [
    "---\n",
    "\n",
    "\n",
    "\n",
    "\n",
    "*Have questions or comments? Visit the [Learn Discussion forum](https://www.kaggle.com/learn-forum/161289) to chat with other Learners.*"
   ]
  }
 ],
 "metadata": {
  "kernelspec": {
   "display_name": "Python 3",
   "language": "python",
   "name": "python3"
  },
  "language_info": {
   "codemirror_mode": {
    "name": "ipython",
    "version": 3
   },
   "file_extension": ".py",
   "mimetype": "text/x-python",
   "name": "python",
   "nbconvert_exporter": "python",
   "pygments_lexer": "ipython3",
   "version": "3.7.10"
  },
  "papermill": {
   "default_parameters": {},
   "duration": 18.947823,
   "end_time": "2021-08-24T08:07:20.994386",
   "environment_variables": {},
   "exception": null,
   "input_path": "__notebook__.ipynb",
   "output_path": "__notebook__.ipynb",
   "parameters": {},
   "start_time": "2021-08-24T08:07:02.046563",
   "version": "2.3.3"
  }
 },
 "nbformat": 4,
 "nbformat_minor": 5
}
